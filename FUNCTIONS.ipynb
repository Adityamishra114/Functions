{
 "cells": [
  {
   "cell_type": "markdown",
   "id": "77cd5308",
   "metadata": {},
   "source": [
    "## FUNCTIONS\n",
    "1. Write A Python function to get first letter of each word of complete string given by user?\n",
    "2. Write a Python Function to reverse of each word in the string given by user?\n",
    "3. Write A Python Function to write vowels in uppercase and consonants in lowercase of same string given by user?\n",
    "4. Write a Python Function to seperate vowels and consonants from given string\n",
    "5. Write a Python Function to seperate upper case and lower case characters from given string\n",
    "6. Write a Python Function to count number of vowels and consonants from given string."
   ]
  },
  {
   "cell_type": "code",
   "execution_count": 1,
   "id": "2049062d",
   "metadata": {},
   "outputs": [
    {
     "name": "stdout",
     "output_type": "stream",
     "text": [
      "Please enter a string as you wishpython is easy language\n",
      "Python Is Easy Language "
     ]
    }
   ],
   "source": [
    "#1.Write A Python function to get first letter of each word of complete string given by user?\n",
    "#Note: Do not use pre-defined functions\n",
    "s1=input(\"Please enter a string as you wish\")\n",
    "s1.split(\" \")\n",
    "for letter in s1.split(\" \"):\n",
    "        print(letter[0].upper()+\"\"+letter[1:len(letter)], end=\" \")\n"
   ]
  },
  {
   "cell_type": "code",
   "execution_count": 2,
   "id": "60235a70",
   "metadata": {},
   "outputs": [
    {
     "name": "stdout",
     "output_type": "stream",
     "text": [
      "Please enter a string as you wish: Python Is Easy Language \n",
      " egaugnaL ysaE sI nohtyP\n"
     ]
    }
   ],
   "source": [
    "#2.Write a Python Function to reverse of each word in the string given by user?\n",
    "Name=input(\"Please enter a string as you wish: \")\n",
    "Name=\"\".join(reversed(Name))\n",
    "print(Name)"
   ]
  },
  {
   "cell_type": "code",
   "execution_count": 3,
   "id": "21c710ca",
   "metadata": {},
   "outputs": [
    {
     "name": "stdout",
     "output_type": "stream",
     "text": [
      "Please enter a string as you wish: Python Is Easy Language \n",
      "pythOn Is EAsy lAngUAgE \n"
     ]
    }
   ],
   "source": [
    "#3.Write A Python Function to write vowels in uppercase and consonants in lowercase of same string given by user?\n",
    "letter=input(\"Please enter a string as you wish: \")\n",
    "answer=\"\"\n",
    "for letter in letter:\n",
    "    if letter in \"aeiouAEIOU\":\n",
    "        answer = answer + letter.upper()\n",
    "    else:\n",
    "        answer = answer + letter.lower()\n",
    "print(answer)\n",
    "  \n",
    "\n"
   ]
  },
  {
   "cell_type": "code",
   "execution_count": 4,
   "id": "45c11deb",
   "metadata": {},
   "outputs": [
    {
     "name": "stdout",
     "output_type": "stream",
     "text": [
      "Please enter a string as you wish: PythonIsEasyLanguage \n",
      "oIEaauae PythnssyLngg \n"
     ]
    }
   ],
   "source": [
    "#4.Write a Python Function to seperate vowels and consonants from given string\n",
    "letter=input(\"Please enter a string as you wish: \")\n",
    "vowel=''\n",
    "consonants=''\n",
    "for i in letter:\n",
    "    if i in 'aeiouAEIOU':\n",
    "        vowel += i\n",
    "    else:\n",
    "        consonants +=i\n",
    "print(vowel,consonants)\n",
    "  \n"
   ]
  },
  {
   "cell_type": "code",
   "execution_count": 5,
   "id": "33e5d0b2",
   "metadata": {},
   "outputs": [
    {
     "name": "stdout",
     "output_type": "stream",
     "text": [
      "Please enter a string as you wish: PythonIsEasyLanguage \n",
      "OIEAAUAE pythnssylngg \n"
     ]
    }
   ],
   "source": [
    "#Write a Python Function to seperate upper case and lower case characters from given string\n",
    "letter=input(\"Please enter a string as you wish: \")\n",
    "vowel=''\n",
    "consonants=''\n",
    "for letter in letter:\n",
    "    if letter in \"aeiouAEIOU\":\n",
    "        vowel = vowel + letter.upper()\n",
    "    else:\n",
    "        consonants = consonants + letter.lower()\n",
    "print(vowel,consonants)\n",
    "  "
   ]
  },
  {
   "cell_type": "code",
   "execution_count": 6,
   "id": "257ff64c",
   "metadata": {},
   "outputs": [
    {
     "name": "stdout",
     "output_type": "stream",
     "text": [
      "Please enter a string as you wish: PythonIsEasyLanguage \n",
      "Number of vowels is 8 and number of constants is 13\n"
     ]
    }
   ],
   "source": [
    "#Write a Python Function to count number of vowels and consonants from given string.\n",
    "letter=input(\"Please enter a string as you wish: \")\n",
    "vowel=0\n",
    "consonants=0\n",
    "for i in letter:\n",
    "    if i in 'aeiouAEIOU':\n",
    "        vowel =vowel+1 \n",
    "    else:\n",
    "        consonants = consonants+1\n",
    "print(\"Number of vowels is {} and number of constants is {}\".format(vowel,consonants))\n",
    "  "
   ]
  },
  {
   "cell_type": "code",
   "execution_count": null,
   "id": "04361774",
   "metadata": {},
   "outputs": [],
   "source": []
  }
 ],
 "metadata": {
  "kernelspec": {
   "display_name": "Python 3",
   "language": "python",
   "name": "python3"
  },
  "language_info": {
   "codemirror_mode": {
    "name": "ipython",
    "version": 3
   },
   "file_extension": ".py",
   "mimetype": "text/x-python",
   "name": "python",
   "nbconvert_exporter": "python",
   "pygments_lexer": "ipython3",
   "version": "3.8.8"
  }
 },
 "nbformat": 4,
 "nbformat_minor": 5
}
